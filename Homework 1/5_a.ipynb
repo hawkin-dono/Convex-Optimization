{
 "cells": [
  {
   "cell_type": "markdown",
   "id": "e4d7c51f-2568-4a32-a477-dfad15f64521",
   "metadata": {
    "tags": []
   },
   "source": [
    "# Homework 1\n"
   ]
  },
  {
   "cell_type": "code",
   "execution_count": 1,
   "id": "58a62844-5107-45bf-be99-2386d7504837",
   "metadata": {},
   "outputs": [],
   "source": [
    "import cvxpy as cp\n",
    "import numpy as np\n",
    "import pandas as pd\n",
    "import seaborn as sns\n",
    "import matplotlib.pyplot as plt"
   ]
  },
  {
   "cell_type": "code",
   "execution_count": 2,
   "id": "23d21d7b-b785-4af0-87e8-78f56396eaf9",
   "metadata": {},
   "outputs": [],
   "source": [
    "xy_train = pd.read_csv('xy_train.csv', \n",
    "                       header=None, \n",
    "                       names=['Feature 1', 'Feature 2', 'Label'])\n",
    "xy_test = pd.read_csv('xy_test.csv', \n",
    "                       header=None, \n",
    "                       names=['Feature 1', 'Feature 2', 'Label'])"
   ]
  },
  {
   "cell_type": "code",
   "execution_count": 3,
   "id": "358fd111-cb01-466e-990b-52e83233e969",
   "metadata": {},
   "outputs": [],
   "source": [
    "X = np.array(xy_train[['Feature 1', 'Feature 2']])\n",
    "y = np.array(xy_train['Label'])\n",
    "\n",
    "X_test = np.array(xy_test[['Feature 1', 'Feature 2']])\n",
    "y_test = np.array(xy_test['Label'])\n",
    "\n",
    "n, p = X.shape"
   ]
  },
  {
   "cell_type": "markdown",
   "id": "215adbdd",
   "metadata": {},
   "source": [
    "# Exercise\n",
    "\n",
    "![image](image\\image1.png)"
   ]
  },
  {
   "cell_type": "markdown",
   "id": "e9e5a952-06b9-41c9-873f-701b7de47ce6",
   "metadata": {},
   "source": [
    "## Phần I\n",
    "\n",
    "![image](image\\image2.png)"
   ]
  },
  {
   "cell_type": "code",
   "execution_count": 4,
   "id": "be0569f4-96da-4fa4-bfe0-d13651546810",
   "metadata": {},
   "outputs": [
    {
     "name": "stdout",
     "output_type": "stream",
     "text": [
      "Optimal value 36.74893264999266\n",
      "Beta [1.41967191 1.24607477]\n",
      "Beta0 [-2.82372759]\n"
     ]
    }
   ],
   "source": [
    "beta = cp.Variable(p)\n",
    "beta0 = cp.Variable(1)\n",
    "epsilon = cp.Variable(n)\n",
    "obj = cp.Minimize(1/2 * cp.norm(beta) ** 2 + cp.sum(epsilon))\n",
    "constraints = [epsilon >= 0,\n",
    "              cp.multiply(y, (X @ beta + beta0)) >= 1 - epsilon]\n",
    "prob = cp.Problem(obj, constraints)\n",
    "print(\"Optimal value\", prob.solve(solver=cp.ECOS))\n",
    "print(\"Beta\", beta.value)\n",
    "print(\"Beta0\", beta0.value)"
   ]
  },
  {
   "cell_type": "markdown",
   "id": "457e2cfc-7833-4fa9-b239-1609c7a95bc2",
   "metadata": {},
   "source": [
    "## Phần II\n",
    "\n",
    "![image](image\\image3.png)"
   ]
  },
  {
   "cell_type": "code",
   "execution_count": 5,
   "id": "fd66e18f-60ac-4100-92d0-0e7760757c3b",
   "metadata": {},
   "outputs": [],
   "source": [
    "beta = cp.Variable(p)\n",
    "beta0 = cp.Variable(1)\n",
    "epsilon = cp.Variable(n)"
   ]
  },
  {
   "cell_type": "code",
   "execution_count": 6,
   "id": "65dd4e00-8abe-4cae-9980-589979ed0057",
   "metadata": {},
   "outputs": [],
   "source": [
    "result = [np.arange(-5, 6), []]\n",
    "for i in range(-5, 6):\n",
    "    C = 2 ** i\n",
    "    obj = cp.Minimize(1/2 * cp.norm(beta) ** 2 + C * cp.sum(epsilon))\n",
    "    constraints = [epsilon >= 0,\n",
    "                   cp.multiply(y, (X @ beta + beta0)) >= 1 - epsilon]\n",
    "    prob = cp.Problem(obj, constraints)\n",
    "    prob.solve(solver=cp.ECOS)\n",
    "    \n",
    "    y_i = beta0.value + X_test @ np.array(beta.value).T >= 0\n",
    "    y_i = y_i * 2 - 1\n",
    "    result[1].append(sum(y_i != y_test))"
   ]
  },
  {
   "cell_type": "code",
   "execution_count": 8,
   "id": "ec2d6133-9095-4666-9421-059bb47113e9",
   "metadata": {},
   "outputs": [
    {
     "data": {
      "text/plain": [
       "(array([-5, -4, -3, -2, -1,  0,  1,  2,  3,  4,  5]),\n",
       " [83, 81, 90, 88, 85, 89, 87, 87, 87, 87, 87])"
      ]
     },
     "execution_count": 8,
     "metadata": {},
     "output_type": "execute_result"
    },
    {
     "data": {
      "image/png": "[encoded data removed]",
      "text/plain": [
       "<Figure size 640x480 with 1 Axes>"
      ]
     },
     "metadata": {},
     "output_type": "display_data"
    }
   ],
   "source": [
    "sns.scatterplot(x=result[0], y=result[1])\n",
    "result[0], result[1]"
   ]
  },
  {
   "cell_type": "code",
   "execution_count": null,
   "id": "1f94aa53-8786-414d-ada8-5ace47dedcf0",
   "metadata": {},
   "outputs": [],
   "source": []
  }
 ],
 "metadata": {
  "kernelspec": {
   "display_name": "Python 3 (ipykernel)",
   "language": "python",
   "name": "python3"
  },
  "language_info": {
   "codemirror_mode": {
    "name": "ipython",
    "version": 3
   },
   "file_extension": ".py",
   "mimetype": "text/x-python",
   "name": "python",
   "nbconvert_exporter": "python",
   "pygments_lexer": "ipython3",
   "version": "3.11.4"
  }
 },
 "nbformat": 4,
 "nbformat_minor": 5
}
